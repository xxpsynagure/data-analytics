{
  "cells": [
    {
      "cell_type": "markdown",
      "metadata": {
        "id": "view-in-github",
        "colab_type": "text"
      },
      "source": [
        "<a href=\"https://colab.research.google.com/github/xxpsynagure/data-analytics/blob/main/Chess_Analytics_Pragnya_Nagure.ipynb\" target=\"_parent\"><img src=\"https://colab.research.google.com/assets/colab-badge.svg\" alt=\"Open In Colab\"/></a>"
      ]
    },
    {
      "cell_type": "markdown",
      "source": [
        "# Section 1"
      ],
      "metadata": {
        "id": "Sbi21uUlCKDt"
      }
    },
    {
      "cell_type": "code",
      "execution_count": null,
      "metadata": {
        "colab": {
          "base_uri": "https://localhost:8080/"
        },
        "id": "ODgf87YxGxh9",
        "outputId": "fd894f85-f1b5-49f4-b183-b73e6a8d6d3c"
      },
      "outputs": [
        {
          "output_type": "stream",
          "name": "stdout",
          "text": [
            "\r0% [Working]\r            \rGet:1 http://security.ubuntu.com/ubuntu bionic-security InRelease [88.7 kB]\n",
            "\r0% [Connecting to archive.ubuntu.com (185.125.190.36)] [1 InRelease 0 B/88.7 kB\r                                                                               \rGet:2 http://ppa.launchpad.net/c2d4u.team/c2d4u4.0+/ubuntu bionic InRelease [15.9 kB]\n",
            "\r0% [Waiting for headers] [1 InRelease 14.2 kB/88.7 kB 16%] [Connected to cloud.\r                                                                               \rHit:3 http://archive.ubuntu.com/ubuntu bionic InRelease\n",
            "\r0% [Waiting for headers] [1 InRelease 72.1 kB/88.7 kB 81%] [Connected to cloud.\r                                                                               \rGet:4 http://archive.ubuntu.com/ubuntu bionic-updates InRelease [88.7 kB]\n",
            "\r                                                                               \rGet:5 https://cloud.r-project.org/bin/linux/ubuntu bionic-cran40/ InRelease [3,626 B]\n",
            "\r0% [4 InRelease 15.6 kB/88.7 kB 18%] [1 InRelease 75.0 kB/88.7 kB 85%] [Waiting\r0% [3 InRelease gpgv 242 kB] [4 InRelease 15.6 kB/88.7 kB 18%] [1 InRelease 77.\r0% [3 InRelease gpgv 242 kB] [4 InRelease 18.5 kB/88.7 kB 21%] [Waiting for hea\r                                                                               \rHit:6 http://ppa.launchpad.net/cran/libgit2/ubuntu bionic InRelease\n",
            "\r0% [3 InRelease gpgv 242 kB] [4 InRelease 33.0 kB/88.7 kB 37%] [Waiting for hea\r0% [3 InRelease gpgv 242 kB] [Waiting for headers] [Waiting for headers] [Waiti\r                                                                               \rGet:7 http://ppa.launchpad.net/deadsnakes/ppa/ubuntu bionic InRelease [15.9 kB]\n",
            "\r0% [3 InRelease gpgv 242 kB] [Waiting for headers] [Waiting for headers] [7 InR\r                                                                               \rGet:8 http://archive.ubuntu.com/ubuntu bionic-backports InRelease [83.3 kB]\n",
            "Hit:9 http://ppa.launchpad.net/graphics-drivers/ppa/ubuntu bionic InRelease\n",
            "Get:10 http://ppa.launchpad.net/c2d4u.team/c2d4u4.0+/ubuntu bionic/main Sources [2,164 kB]\n",
            "Get:11 http://ppa.launchpad.net/c2d4u.team/c2d4u4.0+/ubuntu bionic/main amd64 Packages [1,109 kB]\n",
            "Get:12 http://security.ubuntu.com/ubuntu bionic-security/universe amd64 Packages [1,551 kB]\n",
            "Ign:13 https://developer.download.nvidia.com/compute/machine-learning/repos/ubuntu1804/x86_64  InRelease\n",
            "Hit:14 https://developer.download.nvidia.com/compute/cuda/repos/ubuntu1804/x86_64  InRelease\n",
            "Hit:15 https://developer.download.nvidia.com/compute/machine-learning/repos/ubuntu1804/x86_64  Release\n",
            "Get:16 http://security.ubuntu.com/ubuntu bionic-security/main amd64 Packages [3,020 kB]\n",
            "Get:17 http://security.ubuntu.com/ubuntu bionic-security/restricted amd64 Packages [1,188 kB]\n",
            "Get:18 http://archive.ubuntu.com/ubuntu bionic-updates/universe amd64 Packages [2,329 kB]\n",
            "Get:19 http://archive.ubuntu.com/ubuntu bionic-updates/main amd64 Packages [3,452 kB]\n",
            "Get:20 http://archive.ubuntu.com/ubuntu bionic-updates/restricted amd64 Packages [1,230 kB]\n",
            "Get:21 http://ppa.launchpad.net/deadsnakes/ppa/ubuntu bionic/main amd64 Packages [45.3 kB]\n",
            "Fetched 16.4 MB in 2s (7,575 kB/s)\n",
            "Reading package lists... Done\n"
          ]
        }
      ],
      "source": [
        "!apt-get update -y"
      ]
    },
    {
      "cell_type": "code",
      "execution_count": null,
      "metadata": {
        "id": "ruTSdO-YNFQf"
      },
      "outputs": [],
      "source": [
        "!apt-get install openjdk-8-jdk-headless -qq > /dev/null"
      ]
    },
    {
      "cell_type": "code",
      "execution_count": null,
      "metadata": {
        "id": "XHArXvhNNrCY",
        "colab": {
          "base_uri": "https://localhost:8080/"
        },
        "outputId": "c4396964-8a52-454d-9bd3-774133c6286e"
      },
      "outputs": [
        {
          "output_type": "stream",
          "name": "stdout",
          "text": [
            "--2022-10-14 11:53:31--  https://archive.apache.org/dist/spark/spark-3.1.2/spark-3.1.2-bin-hadoop2.7.tgz\n",
            "Resolving archive.apache.org (archive.apache.org)... 138.201.131.134, 2a01:4f8:172:2ec5::2\n",
            "Connecting to archive.apache.org (archive.apache.org)|138.201.131.134|:443... connected.\n",
            "HTTP request sent, awaiting response... 200 OK\n",
            "Length: 224445805 (214M) [application/x-gzip]\n",
            "Saving to: ‘spark-3.1.2-bin-hadoop2.7.tgz’\n",
            "\n",
            "spark-3.1.2-bin-had 100%[===================>] 214.05M  11.0MB/s    in 24s     \n",
            "\n",
            "2022-10-14 11:53:55 (8.88 MB/s) - ‘spark-3.1.2-bin-hadoop2.7.tgz’ saved [224445805/224445805]\n",
            "\n"
          ]
        }
      ],
      "source": [
        "!wget https://archive.apache.org/dist/spark/spark-3.1.2/spark-3.1.2-bin-hadoop2.7.tgz"
      ]
    },
    {
      "cell_type": "code",
      "execution_count": null,
      "metadata": {
        "id": "6G1wwg3LN4K1"
      },
      "outputs": [],
      "source": [
        "!tar xf spark-3.1.2-bin-hadoop2.7.tgz"
      ]
    },
    {
      "cell_type": "code",
      "execution_count": null,
      "metadata": {
        "id": "pzcI_e-lN_v6"
      },
      "outputs": [],
      "source": [
        "import os\n",
        "os.environ[\"JAVA_HOME\"] = \"/usr/lib/jvm/java-8-openjdk-amd64\"\n",
        "os.environ[\"SPARK_HOME\"] = \"/content/spark-3.1.2-bin-hadoop2.7\""
      ]
    },
    {
      "cell_type": "code",
      "execution_count": null,
      "metadata": {
        "id": "XF7WUeG8OBr-"
      },
      "outputs": [],
      "source": [
        "!pip install -q findspark\n",
        "import findspark\n",
        "findspark.init()"
      ]
    },
    {
      "cell_type": "code",
      "execution_count": null,
      "metadata": {
        "id": "YNqdgk6-Pc92"
      },
      "outputs": [],
      "source": [
        "from pyspark.sql import SparkSession\n",
        "spark = (SparkSession\n",
        ".builder\n",
        ".appName(\"Chess\")\n",
        ".getOrCreate())"
      ]
    },
    {
      "cell_type": "code",
      "execution_count": null,
      "metadata": {
        "id": "yQlEOUbWlCqU"
      },
      "outputs": [],
      "source": [
        "import gdown\n",
        "# url = \"https://drive.google.com/uc?id=1l2UQiN6gxEZGSGJK_3eDRQG9toP5lbcV\"\n",
        "# output = \"chess_schema.png\"\n",
        "# gdown.download(url, output, quiet = False)"
      ]
    },
    {
      "cell_type": "code",
      "execution_count": null,
      "metadata": {
        "id": "WFVIwscVsP--",
        "colab": {
          "base_uri": "https://localhost:8080/",
          "height": 105
        },
        "outputId": "4755d715-609d-4201-d77a-c335fc7f7bf8"
      },
      "outputs": [
        {
          "output_type": "stream",
          "name": "stderr",
          "text": [
            "Downloading...\n",
            "From: https://drive.google.com/uc?id=1UBoiIGhfg-Yxk9wXbc48Lx9Z9ZzWg_4Z\n",
            "To: /content/chess_wc_history_game_info.csv\n",
            "100%|██████████| 596k/596k [00:00<00:00, 74.3MB/s]\n"
          ]
        },
        {
          "output_type": "execute_result",
          "data": {
            "text/plain": [
              "'chess_wc_history_game_info.csv'"
            ],
            "application/vnd.google.colaboratory.intrinsic+json": {
              "type": "string"
            }
          },
          "metadata": {},
          "execution_count": 9
        }
      ],
      "source": [
        "url = \"https://drive.google.com/uc?id=1UBoiIGhfg-Yxk9wXbc48Lx9Z9ZzWg_4Z\"\n",
        "output = \"chess_wc_history_game_info.csv\"\n",
        "gdown.download(url, output)"
      ]
    },
    {
      "cell_type": "code",
      "execution_count": null,
      "metadata": {
        "id": "rcj7kAitxVEr",
        "colab": {
          "base_uri": "https://localhost:8080/",
          "height": 105
        },
        "outputId": "f1d21f6f-af9a-45fe-c2e3-1af681efa788"
      },
      "outputs": [
        {
          "output_type": "stream",
          "name": "stderr",
          "text": [
            "Downloading...\n",
            "From: https://drive.google.com/uc?id=1Th6rP8rVchIvXV25bzO5Er_SvyRoNaic\n",
            "To: /content/chess_wc_history_moves.csv\n",
            "100%|██████████| 112M/112M [00:01<00:00, 96.8MB/s]\n"
          ]
        },
        {
          "output_type": "execute_result",
          "data": {
            "text/plain": [
              "'chess_wc_history_moves.csv'"
            ],
            "application/vnd.google.colaboratory.intrinsic+json": {
              "type": "string"
            }
          },
          "metadata": {},
          "execution_count": 10
        }
      ],
      "source": [
        "url = \"https://drive.google.com/uc?id=1Th6rP8rVchIvXV25bzO5Er_SvyRoNaic\"\n",
        "output = \"chess_wc_history_moves.csv\"\n",
        "gdown.download(url, output, quiet = False)"
      ]
    },
    {
      "cell_type": "code",
      "execution_count": null,
      "metadata": {
        "id": "rXYxkZa2xjbn",
        "colab": {
          "base_uri": "https://localhost:8080/",
          "height": 105
        },
        "outputId": "30e759b4-90d4-4056-8ff6-eb75ffc64109"
      },
      "outputs": [
        {
          "output_type": "stream",
          "name": "stderr",
          "text": [
            "Downloading...\n",
            "From: https://drive.google.com/uc?id=1eysHHc8I905r8YVeALYydQBl0E9caNNI\n",
            "To: /content/eco_codes.csv\n",
            "100%|██████████| 45.6k/45.6k [00:00<00:00, 12.2MB/s]\n"
          ]
        },
        {
          "output_type": "execute_result",
          "data": {
            "text/plain": [
              "'eco_codes.csv'"
            ],
            "application/vnd.google.colaboratory.intrinsic+json": {
              "type": "string"
            }
          },
          "metadata": {},
          "execution_count": 11
        }
      ],
      "source": [
        "url = \"https://drive.google.com/uc?id=1eysHHc8I905r8YVeALYydQBl0E9caNNI\"\n",
        "output = \"eco_codes.csv\"\n",
        "gdown.download(url, output, quiet = False)"
      ]
    },
    {
      "cell_type": "code",
      "source": [
        "df1 = spark.read.csv(\"/content/chess_wc_history_game_info.csv\",\n",
        "                     header=True,\n",
        "                     inferSchema=True\n",
        "                     )"
      ],
      "metadata": {
        "id": "Z4COcezgSFY5"
      },
      "execution_count": null,
      "outputs": []
    },
    {
      "cell_type": "code",
      "source": [
        "df1.printSchema()"
      ],
      "metadata": {
        "colab": {
          "base_uri": "https://localhost:8080/"
        },
        "id": "YPBvRN6Grc-N",
        "outputId": "339705fe-3d3a-4cb9-f60c-cee9d99cdbb0"
      },
      "execution_count": null,
      "outputs": [
        {
          "output_type": "stream",
          "name": "stdout",
          "text": [
            "root\n",
            " |-- game_id: string (nullable = true)\n",
            " |-- game_order: integer (nullable = true)\n",
            " |-- event: string (nullable = true)\n",
            " |-- site: string (nullable = true)\n",
            " |-- date_played: string (nullable = true)\n",
            " |-- round: double (nullable = true)\n",
            " |-- white: string (nullable = true)\n",
            " |-- black: string (nullable = true)\n",
            " |-- result: string (nullable = true)\n",
            " |-- white_elo: integer (nullable = true)\n",
            " |-- black_elo: integer (nullable = true)\n",
            " |-- white_title: string (nullable = true)\n",
            " |-- black_title: string (nullable = true)\n",
            " |-- winner: string (nullable = true)\n",
            " |-- winner_elo: integer (nullable = true)\n",
            " |-- loser: string (nullable = true)\n",
            " |-- loser_elo: integer (nullable = true)\n",
            " |-- winner_loser_elo_diff: integer (nullable = true)\n",
            " |-- eco: string (nullable = true)\n",
            " |-- date_created: string (nullable = true)\n",
            " |-- tournament_name: string (nullable = true)\n",
            "\n"
          ]
        }
      ]
    },
    {
      "cell_type": "code",
      "source": [
        "df2 = spark.read.csv(\"/content/chess_wc_history_moves.csv\",\n",
        "                     header=True,\n",
        "                     inferSchema=True\n",
        "                     )"
      ],
      "metadata": {
        "id": "G2sUbX7hP9VY"
      },
      "execution_count": null,
      "outputs": []
    },
    {
      "cell_type": "code",
      "source": [
        "df2.printSchema()"
      ],
      "metadata": {
        "id": "8zv_C2rsRMZK",
        "colab": {
          "base_uri": "https://localhost:8080/"
        },
        "outputId": "1b67527f-d8e8-48f6-c727-4d5d35c86194"
      },
      "execution_count": null,
      "outputs": [
        {
          "output_type": "stream",
          "name": "stdout",
          "text": [
            "root\n",
            " |-- game_id: string (nullable = true)\n",
            " |-- move_no: integer (nullable = true)\n",
            " |-- move_no_pair: integer (nullable = true)\n",
            " |-- player: string (nullable = true)\n",
            " |-- notation: string (nullable = true)\n",
            " |-- move: string (nullable = true)\n",
            " |-- from_square: string (nullable = true)\n",
            " |-- to_square: string (nullable = true)\n",
            " |-- piece: string (nullable = true)\n",
            " |-- color: string (nullable = true)\n",
            " |-- fen: string (nullable = true)\n",
            " |-- is_check: integer (nullable = true)\n",
            " |-- is_check_mate: integer (nullable = true)\n",
            " |-- is_fifty_moves: integer (nullable = true)\n",
            " |-- is_fivefold_repetition: integer (nullable = true)\n",
            " |-- is_game_over: integer (nullable = true)\n",
            " |-- is_insufficient_material: integer (nullable = true)\n",
            " |-- white_count: integer (nullable = true)\n",
            " |-- black_count: integer (nullable = true)\n",
            " |-- white_pawn_count: integer (nullable = true)\n",
            " |-- black_pawn_count: integer (nullable = true)\n",
            " |-- white_queen_count: integer (nullable = true)\n",
            " |-- black_queen_count: integer (nullable = true)\n",
            " |-- white_bishop_count: integer (nullable = true)\n",
            " |-- black_bishop_count: integer (nullable = true)\n",
            " |-- white_knight_count: integer (nullable = true)\n",
            " |-- black_knight_count: integer (nullable = true)\n",
            " |-- white_rook_count: integer (nullable = true)\n",
            " |-- black_rook_count: integer (nullable = true)\n",
            " |-- captured_score_for_white: integer (nullable = true)\n",
            " |-- captured_score_for_black: integer (nullable = true)\n",
            " |-- fen_row1_white_count: integer (nullable = true)\n",
            " |-- fen_row2_white_count: integer (nullable = true)\n",
            " |-- fen_row3_white_count: integer (nullable = true)\n",
            " |-- fen_row4_white_count: integer (nullable = true)\n",
            " |-- fen_row5_white_count: integer (nullable = true)\n",
            " |-- fen_row6_white_count: integer (nullable = true)\n",
            " |-- fen_row7_white_count: integer (nullable = true)\n",
            " |-- fen_row8_white_count: integer (nullable = true)\n",
            " |-- fen_row1_white_value: integer (nullable = true)\n",
            " |-- fen_row2_white_value: integer (nullable = true)\n",
            " |-- fen_row3_white_value: integer (nullable = true)\n",
            " |-- fen_row4_white_value: integer (nullable = true)\n",
            " |-- fen_row5_white_value: integer (nullable = true)\n",
            " |-- fen_row6_white_value: integer (nullable = true)\n",
            " |-- fen_row7_white_value: integer (nullable = true)\n",
            " |-- fen_row8_white_value: integer (nullable = true)\n",
            " |-- fen_row1_black_count: integer (nullable = true)\n",
            " |-- fen_row2_black_count: integer (nullable = true)\n",
            " |-- fen_row3_black_count: integer (nullable = true)\n",
            " |-- fen_row4_black_count: integer (nullable = true)\n",
            " |-- fen_row5_black_count: integer (nullable = true)\n",
            " |-- fen_row6_black_count: integer (nullable = true)\n",
            " |-- fen_row7_black_count: integer (nullable = true)\n",
            " |-- fen_row8_black_count: integer (nullable = true)\n",
            " |-- fen_row1_black_value: integer (nullable = true)\n",
            " |-- fen_row2_black_value: integer (nullable = true)\n",
            " |-- fen_row3_black_value: integer (nullable = true)\n",
            " |-- fen_row4_black_value: integer (nullable = true)\n",
            " |-- fen_row5_black_value: integer (nullable = true)\n",
            " |-- fen_row6_black_value: integer (nullable = true)\n",
            " |-- fen_row7_black_value: integer (nullable = true)\n",
            " |-- fen_row8_black_value: integer (nullable = true)\n",
            " |-- move_sequence: string (nullable = true)\n",
            "\n"
          ]
        }
      ]
    },
    {
      "cell_type": "code",
      "source": [
        "df3 = spark.read.csv(\"/content/eco_codes.csv\",\n",
        "                     header=True,\n",
        "                     inferSchema=True\n",
        "                     )\n",
        "df3.printSchema()"
      ],
      "metadata": {
        "id": "SKF_HJoVRcsG",
        "colab": {
          "base_uri": "https://localhost:8080/"
        },
        "outputId": "d7f93681-66f2-4a97-e79c-923c042e404f"
      },
      "execution_count": null,
      "outputs": [
        {
          "output_type": "stream",
          "name": "stdout",
          "text": [
            "root\n",
            " |-- eco: string (nullable = true)\n",
            " |-- eco_name: string (nullable = true)\n",
            " |-- eco_example: string (nullable = true)\n",
            " |-- eco_type: string (nullable = true)\n",
            " |-- eco_group: string (nullable = true)\n",
            "\n"
          ]
        }
      ]
    },
    {
      "cell_type": "code",
      "source": [
        "df1.createOrReplaceTempView(\"chess_wc_history_game_info\")\n",
        "df2.createOrReplaceTempView(\"chess_wc_history_moves\")\n",
        "df3.createOrReplaceTempView(\"eco_codes\")"
      ],
      "metadata": {
        "id": "r4D8khSwR1fH"
      },
      "execution_count": null,
      "outputs": []
    },
    {
      "cell_type": "code",
      "source": [
        "df_dict = {}"
      ],
      "metadata": {
        "id": "hcna2wfmORRB"
      },
      "execution_count": null,
      "outputs": []
    },
    {
      "cell_type": "markdown",
      "source": [
        "# Section 2 - Queries\n",
        "\n",
        "### 1. List of Winners of Each World champions Trophy\n",
        "Hint: Total Result of all rounds of Tournament for that player is considered as that player's Score/Result.\n",
        "Result attributes: winner, tournament_name"
      ],
      "metadata": {
        "id": "4JLT4J5YgdFy"
      }
    },
    {
      "cell_type": "code",
      "source": [
        "df_tournament_winner_group = spark.sql(\"select tournament_name, winner, count(*) as count \\\n",
        "      from chess_wc_history_game_info where winner <> 'draw' \\\n",
        "      group by tournament_name, winner\"\n",
        "      )\n",
        "df_tournament_winner_group.show()"
      ],
      "metadata": {
        "id": "TFxx67WylOBl",
        "colab": {
          "base_uri": "https://localhost:8080/"
        },
        "outputId": "efb744cf-7d3f-42fe-f2ac-36fbe1214de2"
      },
      "execution_count": null,
      "outputs": [
        {
          "output_type": "stream",
          "name": "stdout",
          "text": [
            "+---------------+--------------------+-----+\n",
            "|tournament_name|              winner|count|\n",
            "+---------------+--------------------+-----+\n",
            "|  FideChamp2004|             Kritz,L|    2|\n",
            "| WorldChamp1886|Zukertort, Johann...|    5|\n",
            "|  FideChamp2002|            Nataf,IA|    1|\n",
            "| WorldChamp2006|           Topalov,V|    4|\n",
            "|  FideChamp2000|             Gulko,B|    3|\n",
            "|  FideChamp1999|  Ponomariov, Ruslan|    2|\n",
            "|  FideChamp1999|       Lautier, Joel|    3|\n",
            "|  FideChamp1999|       Dreev, Alexey|    4|\n",
            "|  FideChamp2005|        Morozevich,A|    3|\n",
            "|  FideChamp2002|      Vallejo Pons,F|    2|\n",
            "|  FideChamp2004|          Malakhov,V|    1|\n",
            "|  FideChamp2002|        Radziewicz,I|    1|\n",
            "|  FideChamp2000|            Bacrot,E|    2|\n",
            "|  FideChamp2002|       Baginskaite,C|    2|\n",
            "|  FideChamp2004|           Vasquez,R|    1|\n",
            "|  FideChamp1999|     Georgiev, Kiril|    3|\n",
            "| WorldChamp1935|           Euwe, Max|    9|\n",
            "|  FideChamp2004|             Dreev,A|    6|\n",
            "|  FideChamp2004|        Mamedyarov,S|    3|\n",
            "|  FideChamp2002|        Prudnikova,S|    2|\n",
            "+---------------+--------------------+-----+\n",
            "only showing top 20 rows\n",
            "\n"
          ]
        }
      ]
    },
    {
      "cell_type": "code",
      "source": [
        "df_tournament_winner_group.createOrReplaceTempView(\"tournament_winner_group\")"
      ],
      "metadata": {
        "id": "QP0SBxYOmivk"
      },
      "execution_count": null,
      "outputs": []
    },
    {
      "cell_type": "code",
      "source": [
        "df_tournament_max_group = spark.sql(\"select tournament_name as max_tournament_name, \\\n",
        "    max(count) as countmax from tournament_winner_group group by tournament_name \\\n",
        "    order by tournament_name desc\"\n",
        "    )\n",
        "df_tournament_max_group.show()"
      ],
      "metadata": {
        "id": "dxaT7LbhWtPh",
        "colab": {
          "base_uri": "https://localhost:8080/"
        },
        "outputId": "627377e4-6224-4b40-fcff-527a544c83f5"
      },
      "execution_count": null,
      "outputs": [
        {
          "output_type": "stream",
          "name": "stdout",
          "text": [
            "+-------------------+--------+\n",
            "|max_tournament_name|countmax|\n",
            "+-------------------+--------+\n",
            "|     WorldChamp2021|       4|\n",
            "|     WorldChamp2016|       3|\n",
            "|     WorldChamp2014|       3|\n",
            "|     WorldChamp2013|       3|\n",
            "|     WorldChamp2012|       1|\n",
            "|     WorldChamp2010|       3|\n",
            "|     WorldChamp2008|       3|\n",
            "|     WorldChamp2007|       4|\n",
            "|     WorldChamp2006|       5|\n",
            "|     WorldChamp2004|       2|\n",
            "|     WorldChamp2000|       2|\n",
            "|     WorldChamp1990|       4|\n",
            "|     WorldChamp1987|       4|\n",
            "|     WorldChamp1986|       5|\n",
            "|     WorldChamp1985|       5|\n",
            "|     WorldChamp1984|       5|\n",
            "|     WorldChamp1981|       6|\n",
            "|     WorldChamp1978|       6|\n",
            "|     WorldChamp1972|       7|\n",
            "|     WorldChamp1969|       6|\n",
            "+-------------------+--------+\n",
            "only showing top 20 rows\n",
            "\n"
          ]
        }
      ]
    },
    {
      "cell_type": "code",
      "source": [
        "df_query1_temp = df_tournament_winner_group.join(df_tournament_max_group,\n",
        "        on = [\n",
        "          df_tournament_winner_group.tournament_name == df_tournament_max_group.max_tournament_name,\n",
        "          df_tournament_winner_group[\"count\"] == df_tournament_max_group[\"countmax\"]\n",
        "        ],\n",
        "        how = 'inner',\n",
        "      )"
      ],
      "metadata": {
        "id": "pO5NJDwNjdN0"
      },
      "execution_count": null,
      "outputs": []
    },
    {
      "cell_type": "code",
      "source": [
        "df_query1 = df_query1_temp.select('winner','tournament_name') \\\n",
        "      .orderBy('tournament_name', ascending=False)\n",
        "df_query1.show(truncate=False)"
      ],
      "metadata": {
        "id": "9S9WwN60qXfw",
        "colab": {
          "base_uri": "https://localhost:8080/"
        },
        "outputId": "96edbe79-49dc-40fc-a2f2-42acdddab75e"
      },
      "execution_count": null,
      "outputs": [
        {
          "output_type": "stream",
          "name": "stdout",
          "text": [
            "+------------------+---------------+\n",
            "|winner            |tournament_name|\n",
            "+------------------+---------------+\n",
            "|Carlsen,M         |WorldChamp2021 |\n",
            "|Carlsen, Magnus   |WorldChamp2016 |\n",
            "|Carlsen, Magnus   |WorldChamp2014 |\n",
            "|Carlsen, Magnus   |WorldChamp2013 |\n",
            "|Anand,V           |WorldChamp2012 |\n",
            "|Anand, Viswanathan|WorldChamp2012 |\n",
            "|Gelfand,B         |WorldChamp2012 |\n",
            "|Anand,V           |WorldChamp2010 |\n",
            "|Anand,V           |WorldChamp2008 |\n",
            "|Anand,V           |WorldChamp2007 |\n",
            "|Kramnik,V         |WorldChamp2006 |\n",
            "|Kramnik,V         |WorldChamp2004 |\n",
            "|Leko,P            |WorldChamp2004 |\n",
            "|Kramnik,V         |WorldChamp2000 |\n",
            "|Kasparov, Gary    |WorldChamp1990 |\n",
            "|Kasparov, Gary    |WorldChamp1987 |\n",
            "|Karpov, Anatoly   |WorldChamp1987 |\n",
            "|Kasparov, Gary    |WorldChamp1986 |\n",
            "|Kasparov, Gary    |WorldChamp1985 |\n",
            "|Karpov, Anatoly   |WorldChamp1984 |\n",
            "+------------------+---------------+\n",
            "only showing top 20 rows\n",
            "\n"
          ]
        }
      ]
    },
    {
      "cell_type": "code",
      "source": [
        "df_dict['df1.csv'] = df_query1"
      ],
      "metadata": {
        "id": "pi_th2_KOyfB"
      },
      "execution_count": null,
      "outputs": []
    },
    {
      "cell_type": "markdown",
      "source": [
        "### 2. List of Players with number of times they have won Tournament in descending order(Max to min).\n",
        "Result attributes: player_name, number_of_wins"
      ],
      "metadata": {
        "id": "zHuIpGMUsO6C"
      }
    },
    {
      "cell_type": "code",
      "source": [
        "df_query1.createOrReplaceTempView('query1')"
      ],
      "metadata": {
        "id": "oVVoGHq9ury1"
      },
      "execution_count": null,
      "outputs": []
    },
    {
      "cell_type": "code",
      "source": [
        "df_query2 = spark.sql(\"select winner as player_name, count(*) as number_of_wins \\\n",
        "    from query1 group by winner order by number_of_wins desc\"\n",
        "    )\n",
        "df_query2.show()"
      ],
      "metadata": {
        "id": "djCEpJotsU88",
        "colab": {
          "base_uri": "https://localhost:8080/"
        },
        "outputId": "00e9d5b0-012e-4b36-884e-d881ea9a35b8"
      },
      "execution_count": null,
      "outputs": [
        {
          "output_type": "stream",
          "name": "stdout",
          "text": [
            "+--------------------+--------------+\n",
            "|         player_name|number_of_wins|\n",
            "+--------------------+--------------+\n",
            "|     Lasker, Emanuel|             7|\n",
            "|     Karpov, Anatoly|             6|\n",
            "|      Kasparov, Gary|             6|\n",
            "|  Botvinnik, Mikhail|             5|\n",
            "|             Anand,V|             5|\n",
            "| Alekhine, Alexander|             4|\n",
            "|   Steinitz, William|             4|\n",
            "|           Kramnik,V|             3|\n",
            "|     Carlsen, Magnus|             3|\n",
            "| Petrosian, Tigran V|             2|\n",
            "|    Smyslov, Vassily|             2|\n",
            "|  Anand, Viswanathan|             2|\n",
            "|            Shirov,A|             1|\n",
            "|Fischer, Robert J...|             1|\n",
            "|        Ponomariov,R|             1|\n",
            "|  Bronstein, David I|             1|\n",
            "|Capablanca, Jose ...|             1|\n",
            "|              Leko,P|             1|\n",
            "|Khalifman, Alexander|             1|\n",
            "|    Spassky, Boris V|             1|\n",
            "+--------------------+--------------+\n",
            "only showing top 20 rows\n",
            "\n"
          ]
        }
      ]
    },
    {
      "cell_type": "code",
      "source": [
        "df_dict['df2.csv'] = df_query2"
      ],
      "metadata": {
        "id": "qyxcmWhPPCk-"
      },
      "execution_count": null,
      "outputs": []
    },
    {
      "cell_type": "markdown",
      "source": [
        "### 3. Most and Least Popular eco move in world championship history.\n",
        "Result attributes: eco, eco_name, number_of_occurences\n",
        "\n",
        "Final result will have only two rows"
      ],
      "metadata": {
        "id": "8LSQyDFSD0Fe"
      }
    },
    {
      "cell_type": "code",
      "source": [
        "df_eco_group = spark.sql(\"select eco as eco_, count(*) as number_of_occurences \\\n",
        "  from chess_wc_history_game_info group by eco\"\n",
        "  )\n",
        "df_eco_group.show()"
      ],
      "metadata": {
        "colab": {
          "base_uri": "https://localhost:8080/"
        },
        "id": "4gyRi_TrDzOM",
        "outputId": "de0227e2-8568-46cc-fa56-9986f4b096e3"
      },
      "execution_count": null,
      "outputs": [
        {
          "output_type": "stream",
          "name": "stdout",
          "text": [
            "+----+--------------------+\n",
            "|eco_|number_of_occurences|\n",
            "+----+--------------------+\n",
            "| B05|                   3|\n",
            "| A23|                   2|\n",
            "| E02|                   5|\n",
            "| A47|                   3|\n",
            "| D66|                   2|\n",
            "| B34|                   2|\n",
            "| E44|                   1|\n",
            "| D81|                   2|\n",
            "| B01|                   9|\n",
            "| A65|                   3|\n",
            "| D28|                   6|\n",
            "| E56|                   1|\n",
            "| C78|                  20|\n",
            "| B92|                  13|\n",
            "| A46|                  10|\n",
            "| C24|                   6|\n",
            "| C95|                   9|\n",
            "| C77|                   8|\n",
            "| D16|                   4|\n",
            "| D98|                   6|\n",
            "+----+--------------------+\n",
            "only showing top 20 rows\n",
            "\n"
          ]
        }
      ]
    },
    {
      "cell_type": "code",
      "source": [
        "df_eco_group_join = df_eco_group.join(df3,\n",
        "                on = [\n",
        "                    df_eco_group.eco_ == df3.eco\n",
        "                ],\n",
        "                how = 'inner',\n",
        "                )\n",
        "df_eco_total = df_eco_group_join.select('eco','eco_name','number_of_occurences')\n",
        "df_eco_total.show()"
      ],
      "metadata": {
        "colab": {
          "base_uri": "https://localhost:8080/"
        },
        "id": "fvuxZIZsEjix",
        "outputId": "7b4e8044-36b6-4bb4-d264-5bcba79a17ab"
      },
      "execution_count": null,
      "outputs": [
        {
          "output_type": "stream",
          "name": "stdout",
          "text": [
            "+---+--------------------+--------------------+\n",
            "|eco|            eco_name|number_of_occurences|\n",
            "+---+--------------------+--------------------+\n",
            "|B05|Alekhine's Defens...|                   3|\n",
            "|A23|English, Bremen S...|                   2|\n",
            "|E02|Catalan, Open, 5.Qa4|                   5|\n",
            "|A47|      Queen's Indian|                   3|\n",
            "|D66|Queen's Gambit De...|                   2|\n",
            "|B34|Sicilian, Acceler...|                   2|\n",
            "|E44|Nimzo-Indian, Fis...|                   1|\n",
            "|D81|Grunfeld, Russian...|                   2|\n",
            "|B01|        Scandinavian|                   9|\n",
            "|A65|        Benoni, 6.e4|                   3|\n",
            "|D28|Queen's Gambit Ac...|                   6|\n",
            "|E56|Nimzo-Indian, 4.e...|                   1|\n",
            "|C78|           Ruy Lopez|                  20|\n",
            "|B92|Sicilian, Najdorf...|                  13|\n",
            "|A46|   Queen's Pawn Game|                  10|\n",
            "|C24|    Bishop's Opening|                   6|\n",
            "|C95|Ruy Lopez, Closed...|                   9|\n",
            "|C77|           Ruy Lopez|                   8|\n",
            "|D16|Queen's Gambit De...|                   4|\n",
            "|D98|   Grunfeld, Russian|                   6|\n",
            "+---+--------------------+--------------------+\n",
            "only showing top 20 rows\n",
            "\n"
          ]
        }
      ]
    },
    {
      "cell_type": "code",
      "source": [
        "df_eco_total.createOrReplaceTempView('eco_moves_group')"
      ],
      "metadata": {
        "id": "kus1LkR5HJgI"
      },
      "execution_count": null,
      "outputs": []
    },
    {
      "cell_type": "code",
      "source": [
        "df_query3_max = spark.sql(\"select * from eco_moves_group where number_of_occurences = \\\n",
        "    (select max(number_of_occurences) from eco_moves_group)\" \\\n",
        "    )\n",
        "df_query3_max.show()"
      ],
      "metadata": {
        "colab": {
          "base_uri": "https://localhost:8080/"
        },
        "id": "M-_No_pKGqlQ",
        "outputId": "fa10a1ed-70f4-41ac-d192-b54bad574189"
      },
      "execution_count": null,
      "outputs": [
        {
          "output_type": "stream",
          "name": "stdout",
          "text": [
            "+---+--------------+--------------------+\n",
            "|eco|      eco_name|number_of_occurences|\n",
            "+---+--------------+--------------------+\n",
            "|C42|Petrov Defense|                  64|\n",
            "+---+--------------+--------------------+\n",
            "\n"
          ]
        }
      ]
    },
    {
      "cell_type": "code",
      "source": [
        "df_query3_min = spark.sql(\"select * from eco_moves_group where number_of_occurences = \\\n",
        "    (select min(number_of_occurences) from eco_moves_group) order by eco limit 1\"\n",
        "    )\n",
        "df_query3_min.show()"
      ],
      "metadata": {
        "colab": {
          "base_uri": "https://localhost:8080/"
        },
        "id": "3fO21ZtpHdtE",
        "outputId": "1353be21-8545-45e8-8156-6fb62c0c3bea"
      },
      "execution_count": null,
      "outputs": [
        {
          "output_type": "stream",
          "name": "stdout",
          "text": [
            "+---+--------------------+--------------------+\n",
            "|eco|            eco_name|number_of_occurences|\n",
            "+---+--------------------+--------------------+\n",
            "|A01|Nimzovich-Larsen ...|                   1|\n",
            "+---+--------------------+--------------------+\n",
            "\n"
          ]
        }
      ]
    },
    {
      "cell_type": "code",
      "source": [
        "import pandas as pd\n",
        "df_query3_max_pd = df_query3_max.toPandas()\n",
        "df_query3_min_pd = df_query3_min.toPandas()\n",
        "df_query3_pd = pd.concat([df_query3_max_pd,df_query3_min_pd],axis=0)\n",
        "df_query3 = spark.createDataFrame(df_query3_pd)\n",
        "df_query3.show()"
      ],
      "metadata": {
        "colab": {
          "base_uri": "https://localhost:8080/"
        },
        "id": "ryAJI7oYHtmv",
        "outputId": "ae83dd2d-fc28-47e8-ff91-d7849f1f8b9c"
      },
      "execution_count": null,
      "outputs": [
        {
          "output_type": "stream",
          "name": "stdout",
          "text": [
            "+---+--------------------+--------------------+\n",
            "|eco|            eco_name|number_of_occurences|\n",
            "+---+--------------------+--------------------+\n",
            "|C42|      Petrov Defense|                  64|\n",
            "|A01|Nimzovich-Larsen ...|                   1|\n",
            "+---+--------------------+--------------------+\n",
            "\n"
          ]
        }
      ]
    },
    {
      "cell_type": "code",
      "source": [
        "df_dict['df3.csv'] = df_query3"
      ],
      "metadata": {
        "id": "bOG7nQNUPa18"
      },
      "execution_count": null,
      "outputs": []
    },
    {
      "cell_type": "markdown",
      "source": [
        "### 4. Find the eco move with most winnings.\n",
        "Ps. Use this opening move in your next chess game🙂\n",
        "\n",
        "Result attributes: eco, eco_name"
      ],
      "metadata": {
        "id": "tACX2DB4CzlB"
      }
    },
    {
      "cell_type": "code",
      "source": [
        "df_query4_eco = spark.sql(\"select eco as eco_, count(*) as number_of_occurences \\\n",
        "    from chess_wc_history_game_info where winner <> 'draw' group by eco \\\n",
        "    order by number_of_occurences desc limit 1\"\n",
        "    )\n",
        "df_query4_eco.show()"
      ],
      "metadata": {
        "id": "mGx4SYneC7LY",
        "colab": {
          "base_uri": "https://localhost:8080/"
        },
        "outputId": "6cbf10b6-38c0-4427-c79e-c6b64d7ecc61"
      },
      "execution_count": null,
      "outputs": [
        {
          "output_type": "stream",
          "name": "stdout",
          "text": [
            "+----+--------------------+\n",
            "|eco_|number_of_occurences|\n",
            "+----+--------------------+\n",
            "| B90|                  25|\n",
            "+----+--------------------+\n",
            "\n"
          ]
        }
      ]
    },
    {
      "cell_type": "code",
      "source": [
        "df_query4_eco_join = df_query4_eco.join(df3,\n",
        "                on = [\n",
        "                    df_query4_eco.eco_ == df3.eco\n",
        "                ],\n",
        "                how = 'inner',\n",
        "                )\n",
        "df_query4 = df_query4_eco_join.select('eco','eco_name')\n",
        "df_query4.show()"
      ],
      "metadata": {
        "colab": {
          "base_uri": "https://localhost:8080/"
        },
        "id": "-8-tVKfPLTKI",
        "outputId": "733be706-4b57-4049-a0f2-5b95fc8c1f98"
      },
      "execution_count": null,
      "outputs": [
        {
          "output_type": "stream",
          "name": "stdout",
          "text": [
            "+---+-----------------+\n",
            "|eco|         eco_name|\n",
            "+---+-----------------+\n",
            "|B90|Sicilian, Najdorf|\n",
            "+---+-----------------+\n",
            "\n"
          ]
        }
      ]
    },
    {
      "cell_type": "code",
      "source": [
        "df_dict['df4.csv'] = df_query4"
      ],
      "metadata": {
        "id": "XrJbkSJ6PsBW"
      },
      "execution_count": null,
      "outputs": []
    },
    {
      "cell_type": "markdown",
      "source": [
        "### 5. Longest and shortest game ever played in a world championship in terms of move.\n",
        "Chess Funda: \"move\" is completed once both White and Black have played one turn. e.g If a game lasts 10 moves, both White and Black have played 10 moves)\n",
        "\n",
        "Result attributes: game_id, event, tournament_name, number_of_moves\n",
        "\n",
        "Final result will have only two rows"
      ],
      "metadata": {
        "id": "IxpgMfNpC_3l"
      }
    },
    {
      "cell_type": "code",
      "source": [
        "df_query5_moves_group = spark.sql(\"select game_id as game_id_, \\\n",
        "    cast(count(*)/2 as int) as number_of_moves \\\n",
        "    from chess_wc_history_moves group by game_id \"\n",
        "    )\n",
        "df_query5_moves_group.show()"
      ],
      "metadata": {
        "colab": {
          "base_uri": "https://localhost:8080/"
        },
        "id": "sSTqQ0L4L3Gl",
        "outputId": "bcb07be6-e510-4f17-923e-e645ebdb5536"
      },
      "execution_count": null,
      "outputs": [
        {
          "output_type": "stream",
          "name": "stdout",
          "text": [
            "+--------------------+---------------+\n",
            "|            game_id_|number_of_moves|\n",
            "+--------------------+---------------+\n",
            "|12885b8e-be24-49b...|             35|\n",
            "|cd753124-e7cf-47c...|             37|\n",
            "|10046d1a-66d7-405...|             20|\n",
            "|afac6a9e-50e3-401...|             42|\n",
            "|59283c31-ac90-4ab...|             37|\n",
            "|bfa62a46-4916-445...|             34|\n",
            "|64d763f7-2023-465...|             48|\n",
            "|e2ad0b8f-67de-45a...|             21|\n",
            "|206b6b24-a83a-488...|             23|\n",
            "|b0874331-dec8-4b6...|             22|\n",
            "|cd5ca48a-c1eb-495...|             22|\n",
            "|b047408d-d841-4c4...|             82|\n",
            "|09a19770-8f86-452...|             48|\n",
            "|ade9fd84-b946-4aa...|             32|\n",
            "|31866388-3f18-419...|             21|\n",
            "|5604de53-78b8-491...|             45|\n",
            "|41ae3e1c-9c3c-408...|             19|\n",
            "|8bc3b89a-6603-415...|             41|\n",
            "|20d34bba-9fcd-439...|             29|\n",
            "|e413c2a7-dcba-45e...|             53|\n",
            "+--------------------+---------------+\n",
            "only showing top 20 rows\n",
            "\n"
          ]
        }
      ]
    },
    {
      "cell_type": "code",
      "source": [
        "df_query5_moves_group.createOrReplaceTempView('moves_group')"
      ],
      "metadata": {
        "id": "RvEGE3dHRnP7"
      },
      "execution_count": null,
      "outputs": []
    },
    {
      "cell_type": "code",
      "source": [
        "df_query5_max = spark.sql(\"select * from moves_group where number_of_moves = \\\n",
        "    (select max(number_of_moves) from moves_group)\"\n",
        "    )\n",
        "df_query5_max.show()"
      ],
      "metadata": {
        "colab": {
          "base_uri": "https://localhost:8080/"
        },
        "id": "P3p0la5qRX0l",
        "outputId": "a7afc917-ded5-4556-ef78-2eb9a89f42b6"
      },
      "execution_count": null,
      "outputs": [
        {
          "output_type": "stream",
          "name": "stdout",
          "text": [
            "+--------------------+---------------+\n",
            "|            game_id_|number_of_moves|\n",
            "+--------------------+---------------+\n",
            "|4424a0a4-3732-407...|            145|\n",
            "+--------------------+---------------+\n",
            "\n"
          ]
        }
      ]
    },
    {
      "cell_type": "code",
      "source": [
        "df_query5_min = spark.sql(\"select * from moves_group where number_of_moves = \\\n",
        "    (select min(number_of_moves) from moves_group)\"\n",
        "    )\n",
        "df_query5_min.show()"
      ],
      "metadata": {
        "colab": {
          "base_uri": "https://localhost:8080/"
        },
        "id": "qbmqcz4dR4eG",
        "outputId": "a3f0c5b8-8bac-4cac-cc69-7ffe01c7a9b0"
      },
      "execution_count": null,
      "outputs": [
        {
          "output_type": "stream",
          "name": "stdout",
          "text": [
            "+--------------------+---------------+\n",
            "|            game_id_|number_of_moves|\n",
            "+--------------------+---------------+\n",
            "|1846cede-0037-4f0...|              0|\n",
            "+--------------------+---------------+\n",
            "\n"
          ]
        }
      ]
    },
    {
      "cell_type": "code",
      "source": [
        "import pandas as pd\n",
        "df_query5_max_pd = df_query5_max.toPandas()\n",
        "df_query5_min_pd = df_query5_min.toPandas()\n",
        "df_query5_pd = pd.concat([df_query5_max_pd,df_query5_min_pd],axis=0)\n",
        "df_query5_moves = spark.createDataFrame(df_query5_pd)\n",
        "df_query5_moves.show()"
      ],
      "metadata": {
        "colab": {
          "base_uri": "https://localhost:8080/"
        },
        "id": "LPyMioF_SGoM",
        "outputId": "9e312252-2f1e-41c1-d437-2f45f38bf6b1"
      },
      "execution_count": null,
      "outputs": [
        {
          "output_type": "stream",
          "name": "stdout",
          "text": [
            "+--------------------+---------------+\n",
            "|            game_id_|number_of_moves|\n",
            "+--------------------+---------------+\n",
            "|4424a0a4-3732-407...|            145|\n",
            "|1846cede-0037-4f0...|              0|\n",
            "+--------------------+---------------+\n",
            "\n"
          ]
        }
      ]
    },
    {
      "cell_type": "code",
      "source": [
        "df_query5_moves_join = df_query5_moves.join(df1,\n",
        "                on = [\n",
        "                    df_query5_moves.game_id_ == df1.game_id\n",
        "                ],\n",
        "                how = 'inner',\n",
        "                )\n",
        "\n",
        "df_query5 = df_query5_moves_join.select('game_id','event','tournament_name','number_of_moves')\n",
        "df_query5.show()"
      ],
      "metadata": {
        "colab": {
          "base_uri": "https://localhost:8080/"
        },
        "id": "OpQMBet1REyy",
        "outputId": "7efd2c69-3002-4a73-9d74-930751d2d126"
      },
      "execution_count": null,
      "outputs": [
        {
          "output_type": "stream",
          "name": "stdout",
          "text": [
            "+--------------------+--------------------+---------------+---------------+\n",
            "|             game_id|               event|tournament_name|number_of_moves|\n",
            "+--------------------+--------------------+---------------+---------------+\n",
            "|4424a0a4-3732-407...|         FIDE WCh KO|  FideChamp2000|            145|\n",
            "|1846cede-0037-4f0...|World Championshi...| WorldChamp1972|              0|\n",
            "+--------------------+--------------------+---------------+---------------+\n",
            "\n"
          ]
        }
      ]
    },
    {
      "cell_type": "code",
      "source": [
        "df_dict['df5.csv'] = df_query5"
      ],
      "metadata": {
        "id": "QvqVdPOIQCH9"
      },
      "execution_count": null,
      "outputs": []
    },
    {
      "cell_type": "markdown",
      "source": [
        "### 6. Shortest and Longest Draw game ever Played.\n",
        "Result attributes: game_id, event, tournament_name, number_of_moves\n",
        "\n",
        "Final result will have only two rows"
      ],
      "metadata": {
        "id": "u0nLm0F8XXzd"
      }
    },
    {
      "cell_type": "code",
      "source": [
        "df1_draw = spark.sql(\"select * from chess_wc_history_game_info where winner = 'draw'\")"
      ],
      "metadata": {
        "id": "8cQUW97VaUhS"
      },
      "execution_count": null,
      "outputs": []
    },
    {
      "cell_type": "code",
      "source": [
        "df_query6_moves_join = df_query5_moves_group.join(df1_draw,\n",
        "                on = [\n",
        "                    df_query5_moves_group.game_id_ == df1_draw.game_id\n",
        "                ],\n",
        "                how = 'inner',\n",
        "                )\n",
        "\n",
        "df_query6_join = df_query6_moves_join.select('game_id','event','tournament_name','number_of_moves')\n",
        "df_query6_join.show()"
      ],
      "metadata": {
        "colab": {
          "base_uri": "https://localhost:8080/"
        },
        "id": "Z4GiTTQXXe68",
        "outputId": "ad5544ba-caf6-450f-99f6-8b036faddb48"
      },
      "execution_count": null,
      "outputs": [
        {
          "output_type": "stream",
          "name": "stdout",
          "text": [
            "+--------------------+--------------------+---------------+---------------+\n",
            "|             game_id|               event|tournament_name|number_of_moves|\n",
            "+--------------------+--------------------+---------------+---------------+\n",
            "|12885b8e-be24-49b...|         FIDE WCh KO|  FideChamp2004|             35|\n",
            "|10046d1a-66d7-405...|         FIDE WCh KO|  FideChamp2002|             20|\n",
            "|59283c31-ac90-4ab...|         FIDE WCh KO|  FideChamp2002|             37|\n",
            "|bfa62a46-4916-445...|         FIDE WCh KO|  FideChamp2000|             34|\n",
            "|e2ad0b8f-67de-45a...|         FIDE WCh KO|  FideChamp2000|             21|\n",
            "|206b6b24-a83a-488...|       FIDE-Wch k.o.|  FideChamp1999|             23|\n",
            "|b0874331-dec8-4b6...|FIDE-Wch k.o. g/2...|  FideChamp1999|             22|\n",
            "|cd5ca48a-c1eb-495...|       FIDE-Wch k.o.|  FideChamp1999|             22|\n",
            "|b047408d-d841-4c4...|       FIDE-Wch k.o.|  FideChamp1998|             82|\n",
            "|09a19770-8f86-452...|World Championshi...| WorldChamp1972|             48|\n",
            "|ade9fd84-b946-4aa...|World Championshi...| WorldChamp1966|             32|\n",
            "|20d34bba-9fcd-439...|         FIDE WCh KO|  FideChamp2000|             29|\n",
            "|e413c2a7-dcba-45e...|         FIDE WCh KO|  FideChamp2000|             53|\n",
            "|26459e5f-e1c6-4b6...|       FIDE-Wch k.o.|  FideChamp1999|             45|\n",
            "|50aafd83-9652-4d0...|FIDE-Wch k.o. g/2...|  FideChamp1999|             27|\n",
            "|828d39b9-df56-4f5...|       FIDE-Wch k.o.|  FideChamp1998|             38|\n",
            "|af08903d-7258-4ec...|World Championshi...| WorldChamp1963|             55|\n",
            "|3fb15ecc-152b-4f3...|World Championshi...| WorldChamp1958|             22|\n",
            "|59f5988b-7d97-4a8...|            WCh-FIDE|  FideChamp2005|             38|\n",
            "|3e5f4e41-d54e-41c...|         FIDE WCh KO|  FideChamp2004|             12|\n",
            "+--------------------+--------------------+---------------+---------------+\n",
            "only showing top 20 rows\n",
            "\n"
          ]
        }
      ]
    },
    {
      "cell_type": "code",
      "source": [
        "df_query6_join.createOrReplaceTempView('draw_moves')"
      ],
      "metadata": {
        "id": "8A1WmHwkced9"
      },
      "execution_count": null,
      "outputs": []
    },
    {
      "cell_type": "code",
      "source": [
        "df_query6_max = spark.sql(\"select * from draw_moves order by number_of_moves desc limit 1\")\n",
        "df_query6_max.show()"
      ],
      "metadata": {
        "colab": {
          "base_uri": "https://localhost:8080/"
        },
        "id": "gQgWJL2qcIkP",
        "outputId": "6dd4557f-67a6-423c-fb23-d9303b3057a3"
      },
      "execution_count": null,
      "outputs": [
        {
          "output_type": "stream",
          "name": "stdout",
          "text": [
            "+--------------------+-----------+---------------+---------------+\n",
            "|             game_id|      event|tournament_name|number_of_moves|\n",
            "+--------------------+-----------+---------------+---------------+\n",
            "|88f34084-e4df-490...|FIDE WCh KO|  FideChamp2002|            129|\n",
            "+--------------------+-----------+---------------+---------------+\n",
            "\n"
          ]
        }
      ]
    },
    {
      "cell_type": "code",
      "source": [
        "df_query6_min = spark.sql(\"select * from draw_moves order by number_of_moves asc limit 1\")\n",
        "df_query6_min.show()"
      ],
      "metadata": {
        "colab": {
          "base_uri": "https://localhost:8080/"
        },
        "id": "j2p4FsU5eQjB",
        "outputId": "23cb50e3-24a2-44e6-a82c-e2b1f86e4700"
      },
      "execution_count": null,
      "outputs": [
        {
          "output_type": "stream",
          "name": "stdout",
          "text": [
            "+--------------------+-----------+---------------+---------------+\n",
            "|             game_id|      event|tournament_name|number_of_moves|\n",
            "+--------------------+-----------+---------------+---------------+\n",
            "|90baaafa-b306-450...|FIDE WCh KO|  FideChamp2000|              6|\n",
            "+--------------------+-----------+---------------+---------------+\n",
            "\n"
          ]
        }
      ]
    },
    {
      "cell_type": "code",
      "source": [
        "import pandas as pd\n",
        "df_query6_max_pd = df_query6_max.toPandas()\n",
        "df_query6_min_pd = df_query6_min.toPandas()\n",
        "df_query6_pd = pd.concat([df_query6_max_pd,df_query6_min_pd],axis=0)\n",
        "df_query6 = spark.createDataFrame(df_query6_pd)\n",
        "df_query6.show()"
      ],
      "metadata": {
        "colab": {
          "base_uri": "https://localhost:8080/"
        },
        "id": "f-ldL2v1e33T",
        "outputId": "950ac19f-d8a3-440f-af24-32715bc54864"
      },
      "execution_count": null,
      "outputs": [
        {
          "output_type": "stream",
          "name": "stdout",
          "text": [
            "+--------------------+-----------+---------------+---------------+\n",
            "|             game_id|      event|tournament_name|number_of_moves|\n",
            "+--------------------+-----------+---------------+---------------+\n",
            "|88f34084-e4df-490...|FIDE WCh KO|  FideChamp2002|            129|\n",
            "|90baaafa-b306-450...|FIDE WCh KO|  FideChamp2000|              6|\n",
            "+--------------------+-----------+---------------+---------------+\n",
            "\n"
          ]
        }
      ]
    },
    {
      "cell_type": "code",
      "source": [
        "df_dict['df6.csv'] = df_query6"
      ],
      "metadata": {
        "id": "JSlDV1iBQLDJ"
      },
      "execution_count": null,
      "outputs": []
    },
    {
      "cell_type": "markdown",
      "source": [
        "### 7. Most and Least rated Player.\n",
        "Result attributes: player_name, elo\n",
        "\n",
        "Chess Funda: elo is the rating of the player in chess tournament.\n",
        "\n",
        "Final result will have only two rows"
      ],
      "metadata": {
        "id": "T6iJQZ1jhRu1"
      }
    },
    {
      "cell_type": "code",
      "source": [
        "df_query7_white = spark.sql('select white as player_name, white_elo as elo from chess_wc_history_game_info')\n",
        "df_query7_black = spark.sql('select black as player_name, black_elo as elo from chess_wc_history_game_info')"
      ],
      "metadata": {
        "id": "klWyLwYJhlhE"
      },
      "execution_count": null,
      "outputs": []
    },
    {
      "cell_type": "code",
      "source": [
        "import pandas as pd\n",
        "df_query7_white_pd = df_query7_white.toPandas()\n",
        "df_query7_black_pd = df_query7_black.toPandas()\n",
        "df_query7_pd = pd.concat([df_query7_white_pd, df_query7_black_pd], axis=0)\n",
        "df_query7_players = spark.createDataFrame(df_query7_pd)\n",
        "df_query7_players.show()"
      ],
      "metadata": {
        "id": "n850RdfDJH46",
        "colab": {
          "base_uri": "https://localhost:8080/"
        },
        "outputId": "70a51d2d-81ed-4665-f996-808e6a2559a7"
      },
      "execution_count": null,
      "outputs": [
        {
          "output_type": "stream",
          "name": "stdout",
          "text": [
            "+----------------+------+\n",
            "|     player_name|   elo|\n",
            "+----------------+------+\n",
            "|Nepomniachtchi,I|2782.0|\n",
            "|       Carlsen,M|2855.0|\n",
            "|Nepomniachtchi,I|2782.0|\n",
            "|       Carlsen,M|2855.0|\n",
            "|Nepomniachtchi,I|2782.0|\n",
            "|       Carlsen,M|2855.0|\n",
            "|Nepomniachtchi,I|2782.0|\n",
            "|       Carlsen,M|2855.0|\n",
            "|Nepomniachtchi,I|2782.0|\n",
            "|       Carlsen,M|2855.0|\n",
            "|Nepomniachtchi,I|2782.0|\n",
            "|Caruana, Fabiano|2832.0|\n",
            "| Carlsen, Magnus|2835.0|\n",
            "|Caruana, Fabiano|2832.0|\n",
            "| Carlsen, Magnus|2835.0|\n",
            "|Caruana, Fabiano|2832.0|\n",
            "| Carlsen, Magnus|2835.0|\n",
            "| Carlsen, Magnus|2835.0|\n",
            "|Caruana, Fabiano|2832.0|\n",
            "| Carlsen, Magnus|2835.0|\n",
            "+----------------+------+\n",
            "only showing top 20 rows\n",
            "\n"
          ]
        }
      ]
    },
    {
      "cell_type": "code",
      "source": [
        "df_query7_players.createOrReplaceTempView('query7_players')"
      ],
      "metadata": {
        "id": "boJ_pNUusXdL"
      },
      "execution_count": null,
      "outputs": []
    },
    {
      "cell_type": "code",
      "source": [
        "df_query7_group = spark.sql('select * from query7_players where elo <> \"NaN\" \\\n",
        "    group by player_name, elo order by elo desc'\n",
        "    )\n",
        "df_query7_group.show()"
      ],
      "metadata": {
        "colab": {
          "base_uri": "https://localhost:8080/"
        },
        "id": "cj9uKekQrnDn",
        "outputId": "ab5fb627-1483-48e8-e177-821cef6cf0a5"
      },
      "execution_count": null,
      "outputs": [
        {
          "output_type": "stream",
          "name": "stdout",
          "text": [
            "+------------------+------+\n",
            "|       player_name|   elo|\n",
            "+------------------+------+\n",
            "|   Carlsen, Magnus|2870.0|\n",
            "|   Carlsen, Magnus|2863.0|\n",
            "|         Carlsen,M|2855.0|\n",
            "|   Carlsen, Magnus|2853.0|\n",
            "|        Kasparov,G|2849.0|\n",
            "|   Carlsen, Magnus|2835.0|\n",
            "|  Caruana, Fabiano|2832.0|\n",
            "|         Topalov,V|2813.0|\n",
            "|         Topalov,V|2805.0|\n",
            "|    Kasparov, Gary|2805.0|\n",
            "|    Kasparov, Gary|2800.0|\n",
            "|Anand, Viswanathan|2799.0|\n",
            "|    Kasparov, Gary|2795.0|\n",
            "|Anand, Viswanathan|2792.0|\n",
            "|           Anand,V|2792.0|\n",
            "|           Anand,V|2791.0|\n",
            "|Anand, Viswanathan|2791.0|\n",
            "|           Anand,V|2788.0|\n",
            "|         Topalov,V|2788.0|\n",
            "|           Anand,V|2787.0|\n",
            "+------------------+------+\n",
            "only showing top 20 rows\n",
            "\n"
          ]
        }
      ]
    },
    {
      "cell_type": "code",
      "source": [
        "df_query7_group.createOrReplaceTempView('query7_group')"
      ],
      "metadata": {
        "id": "KF1mwOf5xFF_"
      },
      "execution_count": null,
      "outputs": []
    },
    {
      "cell_type": "code",
      "source": [
        "df_query7_group_elo = spark.sql('select player_name, cast(sum(elo) as int) as elo \\\n",
        "    from query7_group group by player_name'\n",
        "    )\n",
        "df_query7_group_elo.show()"
      ],
      "metadata": {
        "colab": {
          "base_uri": "https://localhost:8080/"
        },
        "id": "7boz7rKUw96_",
        "outputId": "e55f0232-fd8a-4479-a506-a175847a09d7"
      },
      "execution_count": null,
      "outputs": [
        {
          "output_type": "stream",
          "name": "stdout",
          "text": [
            "+------------------+-----+\n",
            "|       player_name|  elo|\n",
            "+------------------+-----+\n",
            "| Hamdouchi, Hichem| 5055|\n",
            "|    Svidler, Peter| 5344|\n",
            "|   Alterman, Boris| 2615|\n",
            "|   Fridman, Daniel| 2526|\n",
            "|  Nepomniachtchi,I| 2782|\n",
            "|        Ivanchuk,V|10883|\n",
            "|    Andersson, Ulf| 5263|\n",
            "|   Jussupow, Artur| 2640|\n",
            "|    Van Wely, Loek| 2655|\n",
            "|          Piket,Je| 2649|\n",
            "|      Peng Xiaomin| 7761|\n",
            "|       Onischuk,Al| 2627|\n",
            "| Ivanchuk, Vassily| 5427|\n",
            "|Sakaev, Konstantin| 2648|\n",
            "|      Vladimirov,E| 5219|\n",
            "|          Luther,T| 2604|\n",
            "|    Kacheishvili,G| 2600|\n",
            "|         Carlsen,M| 5407|\n",
            "|         Ivanov,AV| 5153|\n",
            "|Istratescu, Andrei| 2550|\n",
            "+------------------+-----+\n",
            "only showing top 20 rows\n",
            "\n"
          ]
        }
      ]
    },
    {
      "cell_type": "code",
      "source": [
        "df_query7_group_elo.createOrReplaceTempView('group_elo')\n",
        "df_query7_max = spark.sql('select * from group_elo order by elo desc limit 1')\n",
        "df_query7_min = spark.sql('select * from group_elo order by elo asc limit 1')"
      ],
      "metadata": {
        "id": "iPGJ4YAzykmg"
      },
      "execution_count": null,
      "outputs": []
    },
    {
      "cell_type": "code",
      "source": [
        "import pandas as pd\n",
        "df_query7_max_pd = df_query7_max.toPandas()\n",
        "df_query7_min_pd = df_query7_min.toPandas()\n",
        "df_query7_pd = pd.concat([df_query7_max_pd, df_query7_min_pd], axis=0)\n",
        "df_query7 = spark.createDataFrame(df_query7_pd)\n",
        "df_query7.show()"
      ],
      "metadata": {
        "colab": {
          "base_uri": "https://localhost:8080/"
        },
        "id": "3-eIAQe21-P4",
        "outputId": "3727f6c1-a248-4cc5-c56f-9f9e529d8141"
      },
      "execution_count": null,
      "outputs": [
        {
          "output_type": "stream",
          "name": "stdout",
          "text": [
            "+---------------+-----+\n",
            "|    player_name|  elo|\n",
            "+---------------+-----+\n",
            "|Karpov, Anatoly|24590|\n",
            "|      Abulhul,T| 2076|\n",
            "+---------------+-----+\n",
            "\n"
          ]
        }
      ]
    },
    {
      "cell_type": "code",
      "source": [
        "df_dict['df7.csv'] = df_query7"
      ],
      "metadata": {
        "id": "qlZv6Or9QR02"
      },
      "execution_count": null,
      "outputs": []
    },
    {
      "cell_type": "markdown",
      "source": [
        "### 8. 3rd Last Player with most Loss.\n",
        "Result attributes: player_name\n",
        "\n",
        "Final result will have only one row"
      ],
      "metadata": {
        "id": "wsATiqvIfk9H"
      }
    },
    {
      "cell_type": "code",
      "source": [
        "df_query8_list = spark.sql(\"select loser as player_name, count(*) as lost_count \\\n",
        "    from chess_wc_history_game_info where loser <> 'draw' group by loser \\\n",
        "    order by lost_count desc limit 3\"\n",
        "    )\n",
        "df_query8_list.show()"
      ],
      "metadata": {
        "colab": {
          "base_uri": "https://localhost:8080/"
        },
        "id": "hutFz0hofG2T",
        "outputId": "93b32fad-bad3-429e-9c73-fedba176fbfb"
      },
      "execution_count": null,
      "outputs": [
        {
          "output_type": "stream",
          "name": "stdout",
          "text": [
            "+------------------+----------+\n",
            "|       player_name|lost_count|\n",
            "+------------------+----------+\n",
            "| Steinitz, William|        43|\n",
            "|Botvinnik, Mikhail|        41|\n",
            "|   Karpov, Anatoly|        36|\n",
            "+------------------+----------+\n",
            "\n"
          ]
        }
      ]
    },
    {
      "cell_type": "code",
      "source": [
        "df_query8_list.createOrReplaceTempView(\"loser_list\")"
      ],
      "metadata": {
        "id": "7FtInXqjgvGq"
      },
      "execution_count": null,
      "outputs": []
    },
    {
      "cell_type": "code",
      "source": [
        "df_query8 = spark.sql(\"select player_name from loser_list order by lost_count asc limit 1\")\n",
        "df_query8.show()"
      ],
      "metadata": {
        "colab": {
          "base_uri": "https://localhost:8080/"
        },
        "id": "-JbPmQK1geLi",
        "outputId": "ad811b3e-4d6b-4cb8-c542-daa911a13ba9"
      },
      "execution_count": null,
      "outputs": [
        {
          "output_type": "stream",
          "name": "stdout",
          "text": [
            "+---------------+\n",
            "|    player_name|\n",
            "+---------------+\n",
            "|Karpov, Anatoly|\n",
            "+---------------+\n",
            "\n"
          ]
        }
      ]
    },
    {
      "cell_type": "code",
      "source": [
        "df_dict['df8.csv'] = df_query8"
      ],
      "metadata": {
        "id": "BYfGZOSYQW1X"
      },
      "execution_count": null,
      "outputs": []
    },
    {
      "cell_type": "markdown",
      "source": [
        "### 9. How many times players with low rating won matches with their total win Count.\n",
        "\n",
        "Result attributes: player_name, win_count"
      ],
      "metadata": {
        "id": "HvZdULmkhKKL"
      }
    },
    {
      "cell_type": "code",
      "source": [
        "df_query9_low_rating = spark.sql('select * from group_elo order by elo asc limit 30')\n",
        "df_query9_low_rating.show()"
      ],
      "metadata": {
        "colab": {
          "base_uri": "https://localhost:8080/"
        },
        "id": "zkURG0Bs2lgc",
        "outputId": "b87db6fe-7837-4813-ec64-cba9e8090e32"
      },
      "execution_count": null,
      "outputs": [
        {
          "output_type": "stream",
          "name": "stdout",
          "text": [
            "+-----------------+----+\n",
            "|      player_name| elo|\n",
            "+-----------------+----+\n",
            "|        Abulhul,T|2076|\n",
            "|         Elarbi,A|2257|\n",
            "|      Utnasunov,A|2257|\n",
            "|         Mohota,N|2262|\n",
            "|       Ciuksyte,D|2271|\n",
            "|        Asabri,Hu|2277|\n",
            "|      Gu Xiaobing|2299|\n",
            "|Feldman, Vladimir|2332|\n",
            "|    Baginskaite,C|2336|\n",
            "|           Pina,S|2345|\n",
            "| Gaprindashvili,N|2349|\n",
            "| Kozak, Alexander|2350|\n",
            "|        Solomon,K|2352|\n",
            "|       Shovunov,B|2353|\n",
            "|        Sarthou,G|2361|\n",
            "|        Touzane,O|2368|\n",
            "|    Bouaziz, Slim|2372|\n",
            "|           Arab,A|2374|\n",
            "|          Wang Yu|2378|\n",
            "|          Kadhi,H|2379|\n",
            "+-----------------+----+\n",
            "only showing top 20 rows\n",
            "\n"
          ]
        }
      ]
    },
    {
      "cell_type": "code",
      "source": [
        "df_query9_player_wins = spark.sql(\"select winner, count(*) as win_count \\\n",
        "    from chess_wc_history_game_info where winner <> 'draw' group by winner\"\n",
        "    )\n",
        "df_query9_player_wins.show()"
      ],
      "metadata": {
        "colab": {
          "base_uri": "https://localhost:8080/"
        },
        "id": "rMI1dNND8LdT",
        "outputId": "be95cfcc-ee15-4a31-d6ff-45e55f52e03d"
      },
      "execution_count": null,
      "outputs": [
        {
          "output_type": "stream",
          "name": "stdout",
          "text": [
            "+------------------+---------+\n",
            "|            winner|win_count|\n",
            "+------------------+---------+\n",
            "|   Fridman, Daniel|        2|\n",
            "|    Svidler, Peter|        4|\n",
            "|   Alterman, Boris|        1|\n",
            "|        Ivanchuk,V|       12|\n",
            "|    Andersson, Ulf|        5|\n",
            "|   Jussupow, Artur|        1|\n",
            "|          Piket,Je|        3|\n",
            "|    Van Wely, Loek|        4|\n",
            "|       Onischuk,Al|        1|\n",
            "|      Peng Xiaomin|        5|\n",
            "|    Kacheishvili,G|        1|\n",
            "|      Vladimirov,E|        4|\n",
            "|          Luther,T|        3|\n",
            "| Ivanchuk, Vassily|        4|\n",
            "| Steinitz, William|       43|\n",
            "|         Carlsen,M|        4|\n",
            "|         Ivanov,AV|        1|\n",
            "|Istratescu, Andrei|        2|\n",
            "|        Tiviakov,S|        5|\n",
            "|   Karpov, Anatoly|       47|\n",
            "+------------------+---------+\n",
            "only showing top 20 rows\n",
            "\n"
          ]
        }
      ]
    },
    {
      "cell_type": "code",
      "source": [
        "df_query9_low_rating.createOrReplaceTempView('query9_low_rating')\n",
        "df_query9_player_wins.createOrReplaceTempView('query9_player_wins')"
      ],
      "metadata": {
        "id": "TmXdEpjt-kft"
      },
      "execution_count": null,
      "outputs": []
    },
    {
      "cell_type": "code",
      "source": [
        "df_query9 = spark.sql('select player_name, win_count from query9_low_rating, query9_player_wins \\\n",
        "    where player_name == winner order by win_count'\n",
        "    )\n",
        "df_query9.show()"
      ],
      "metadata": {
        "colab": {
          "base_uri": "https://localhost:8080/"
        },
        "id": "nNsGGXiR9pz5",
        "outputId": "e6dbf64a-780a-4529-843f-460f982cf437"
      },
      "execution_count": null,
      "outputs": [
        {
          "output_type": "stream",
          "name": "stdout",
          "text": [
            "+-------------+---------+\n",
            "|  player_name|win_count|\n",
            "+-------------+---------+\n",
            "|       Pina,S|        1|\n",
            "|Zielinska,Mar|        1|\n",
            "|   Ciuksyte,D|        1|\n",
            "| Radziewicz,I|        1|\n",
            "|    Touzane,O|        1|\n",
            "|     Kobese,W|        1|\n",
            "|   Kiseleva,N|        2|\n",
            "|Baginskaite,C|        2|\n",
            "|     Paehtz,E|        2|\n",
            "|  Xu Yuanyuan|        3|\n",
            "+-------------+---------+\n",
            "\n"
          ]
        }
      ]
    },
    {
      "cell_type": "code",
      "source": [
        "df_dict['df9.csv'] = df_query9"
      ],
      "metadata": {
        "id": "esgPU0FeQaxK"
      },
      "execution_count": null,
      "outputs": []
    },
    {
      "cell_type": "markdown",
      "source": [
        "### 10. Move Sequence for Each Player in a Match.\n",
        "\n",
        "Result attributes: game_id, player_name, move_sequence, move_count"
      ],
      "metadata": {
        "id": "OidD17RZhd33"
      }
    },
    {
      "cell_type": "code",
      "source": [
        "df_query10 = spark.sql('select game_id, player, move_sequence, max(move_no) as move_count \\\n",
        "    from chess_wc_history_moves group by game_id'\n",
        "    )\n",
        "df_query10.show()"
      ],
      "metadata": {
        "id": "KhpApGbqkZjn",
        "colab": {
          "base_uri": "https://localhost:8080/",
          "height": 487
        },
        "outputId": "ea03e48c-1deb-49ee-f98d-df36bde08ea8"
      },
      "execution_count": null,
      "outputs": [
        {
          "output_type": "error",
          "ename": "AnalysisException",
          "evalue": "ignored",
          "traceback": [
            "\u001b[0;31m---------------------------------------------------------------------------\u001b[0m",
            "\u001b[0;31mAnalysisException\u001b[0m                         Traceback (most recent call last)",
            "\u001b[0;32m<ipython-input-148-862152d4696d>\u001b[0m in \u001b[0;36m<module>\u001b[0;34m\u001b[0m\n\u001b[1;32m      1\u001b[0m df_query10 = spark.sql('select game_id, player, move_sequence, max(move_no) as move_count \\\n\u001b[0;32m----> 2\u001b[0;31m     \u001b[0;32mfrom\u001b[0m \u001b[0mchess_wc_history_moves\u001b[0m \u001b[0mgroup\u001b[0m \u001b[0mby\u001b[0m \u001b[0mgame_id\u001b[0m\u001b[0;31m'\u001b[0m\u001b[0;34m\u001b[0m\u001b[0;34m\u001b[0m\u001b[0m\n\u001b[0m\u001b[1;32m      3\u001b[0m     )\n\u001b[1;32m      4\u001b[0m \u001b[0mdf_query10\u001b[0m\u001b[0;34m.\u001b[0m\u001b[0mshow\u001b[0m\u001b[0;34m(\u001b[0m\u001b[0;34m)\u001b[0m\u001b[0;34m\u001b[0m\u001b[0;34m\u001b[0m\u001b[0m\n",
            "\u001b[0;32m/content/spark-3.1.2-bin-hadoop2.7/python/pyspark/sql/session.py\u001b[0m in \u001b[0;36msql\u001b[0;34m(self, sqlQuery)\u001b[0m\n\u001b[1;32m    721\u001b[0m         \u001b[0;34m[\u001b[0m\u001b[0mRow\u001b[0m\u001b[0;34m(\u001b[0m\u001b[0mf1\u001b[0m\u001b[0;34m=\u001b[0m\u001b[0;36m1\u001b[0m\u001b[0;34m,\u001b[0m \u001b[0mf2\u001b[0m\u001b[0;34m=\u001b[0m\u001b[0;34m'row1'\u001b[0m\u001b[0;34m)\u001b[0m\u001b[0;34m,\u001b[0m \u001b[0mRow\u001b[0m\u001b[0;34m(\u001b[0m\u001b[0mf1\u001b[0m\u001b[0;34m=\u001b[0m\u001b[0;36m2\u001b[0m\u001b[0;34m,\u001b[0m \u001b[0mf2\u001b[0m\u001b[0;34m=\u001b[0m\u001b[0;34m'row2'\u001b[0m\u001b[0;34m)\u001b[0m\u001b[0;34m,\u001b[0m \u001b[0mRow\u001b[0m\u001b[0;34m(\u001b[0m\u001b[0mf1\u001b[0m\u001b[0;34m=\u001b[0m\u001b[0;36m3\u001b[0m\u001b[0;34m,\u001b[0m \u001b[0mf2\u001b[0m\u001b[0;34m=\u001b[0m\u001b[0;34m'row3'\u001b[0m\u001b[0;34m)\u001b[0m\u001b[0;34m]\u001b[0m\u001b[0;34m\u001b[0m\u001b[0;34m\u001b[0m\u001b[0m\n\u001b[1;32m    722\u001b[0m         \"\"\"\n\u001b[0;32m--> 723\u001b[0;31m         \u001b[0;32mreturn\u001b[0m \u001b[0mDataFrame\u001b[0m\u001b[0;34m(\u001b[0m\u001b[0mself\u001b[0m\u001b[0;34m.\u001b[0m\u001b[0m_jsparkSession\u001b[0m\u001b[0;34m.\u001b[0m\u001b[0msql\u001b[0m\u001b[0;34m(\u001b[0m\u001b[0msqlQuery\u001b[0m\u001b[0;34m)\u001b[0m\u001b[0;34m,\u001b[0m \u001b[0mself\u001b[0m\u001b[0;34m.\u001b[0m\u001b[0m_wrapped\u001b[0m\u001b[0;34m)\u001b[0m\u001b[0;34m\u001b[0m\u001b[0;34m\u001b[0m\u001b[0m\n\u001b[0m\u001b[1;32m    724\u001b[0m \u001b[0;34m\u001b[0m\u001b[0m\n\u001b[1;32m    725\u001b[0m     \u001b[0;32mdef\u001b[0m \u001b[0mtable\u001b[0m\u001b[0;34m(\u001b[0m\u001b[0mself\u001b[0m\u001b[0;34m,\u001b[0m \u001b[0mtableName\u001b[0m\u001b[0;34m)\u001b[0m\u001b[0;34m:\u001b[0m\u001b[0;34m\u001b[0m\u001b[0;34m\u001b[0m\u001b[0m\n",
            "\u001b[0;32m/content/spark-3.1.2-bin-hadoop2.7/python/lib/py4j-0.10.9-src.zip/py4j/java_gateway.py\u001b[0m in \u001b[0;36m__call__\u001b[0;34m(self, *args)\u001b[0m\n\u001b[1;32m   1303\u001b[0m         \u001b[0manswer\u001b[0m \u001b[0;34m=\u001b[0m \u001b[0mself\u001b[0m\u001b[0;34m.\u001b[0m\u001b[0mgateway_client\u001b[0m\u001b[0;34m.\u001b[0m\u001b[0msend_command\u001b[0m\u001b[0;34m(\u001b[0m\u001b[0mcommand\u001b[0m\u001b[0;34m)\u001b[0m\u001b[0;34m\u001b[0m\u001b[0;34m\u001b[0m\u001b[0m\n\u001b[1;32m   1304\u001b[0m         return_value = get_return_value(\n\u001b[0;32m-> 1305\u001b[0;31m             answer, self.gateway_client, self.target_id, self.name)\n\u001b[0m\u001b[1;32m   1306\u001b[0m \u001b[0;34m\u001b[0m\u001b[0m\n\u001b[1;32m   1307\u001b[0m         \u001b[0;32mfor\u001b[0m \u001b[0mtemp_arg\u001b[0m \u001b[0;32min\u001b[0m \u001b[0mtemp_args\u001b[0m\u001b[0;34m:\u001b[0m\u001b[0;34m\u001b[0m\u001b[0;34m\u001b[0m\u001b[0m\n",
            "\u001b[0;32m/content/spark-3.1.2-bin-hadoop2.7/python/pyspark/sql/utils.py\u001b[0m in \u001b[0;36mdeco\u001b[0;34m(*a, **kw)\u001b[0m\n\u001b[1;32m    115\u001b[0m                 \u001b[0;31m# Hide where the exception came from that shows a non-Pythonic\u001b[0m\u001b[0;34m\u001b[0m\u001b[0;34m\u001b[0m\u001b[0;34m\u001b[0m\u001b[0m\n\u001b[1;32m    116\u001b[0m                 \u001b[0;31m# JVM exception message.\u001b[0m\u001b[0;34m\u001b[0m\u001b[0;34m\u001b[0m\u001b[0;34m\u001b[0m\u001b[0m\n\u001b[0;32m--> 117\u001b[0;31m                 \u001b[0;32mraise\u001b[0m \u001b[0mconverted\u001b[0m \u001b[0;32mfrom\u001b[0m \u001b[0;32mNone\u001b[0m\u001b[0;34m\u001b[0m\u001b[0;34m\u001b[0m\u001b[0m\n\u001b[0m\u001b[1;32m    118\u001b[0m             \u001b[0;32melse\u001b[0m\u001b[0;34m:\u001b[0m\u001b[0;34m\u001b[0m\u001b[0;34m\u001b[0m\u001b[0m\n\u001b[1;32m    119\u001b[0m                 \u001b[0;32mraise\u001b[0m\u001b[0;34m\u001b[0m\u001b[0;34m\u001b[0m\u001b[0m\n",
            "\u001b[0;31mAnalysisException\u001b[0m: expression 'chess_wc_history_moves.`player`' is neither present in the group by, nor is it an aggregate function. Add to group by or wrap in first() (or first_value) if you don't care which value you get.;\nAggregate [game_id#74], [game_id#74, player#77, move_sequence#137, max(move_no#75) AS move_count#1467]\n+- SubqueryAlias chess_wc_history_moves\n   +- Relation[game_id#74,move_no#75,move_no_pair#76,player#77,notation#78,move#79,from_square#80,to_square#81,piece#82,color#83,fen#84,is_check#85,is_check_mate#86,is_fifty_moves#87,is_fivefold_repetition#88,is_game_over#89,is_insufficient_material#90,white_count#91,black_count#92,white_pawn_count#93,black_pawn_count#94,white_queen_count#95,black_queen_count#96,white_bishop_count#97,... 40 more fields] csv\n"
          ]
        }
      ]
    },
    {
      "cell_type": "markdown",
      "source": [
        "### 11. Total Number of games where losing player has more Captured score than Winning player.\n",
        "\n",
        "Hint: Captured score is cumulative, i.e., for 3rd capture it will have score for 1, 2, and 3rd.\n",
        "\n",
        "Result attributes: total_number_of_games Final result will have only one row"
      ],
      "metadata": {
        "id": "Vgb9Zh6Nh-7g"
      }
    },
    {
      "cell_type": "code",
      "source": [],
      "metadata": {
        "id": "-kgW7od_B3dy"
      },
      "execution_count": null,
      "outputs": []
    },
    {
      "cell_type": "markdown",
      "source": [
        "### 12. List All Perfect Tournament with Winner Name.\n",
        "\n",
        "Chess Funda: Perfect Tournament means a player has won all the matches excluding draw matches. e.g Player A has won 5 matches out of 7\n",
        "Matches in tournament where 2 matches are draw and player B has won 0 matches)\n",
        "\n",
        "Result attributes: winner_name, tournament_name"
      ],
      "metadata": {
        "id": "pILcLFjpiGzX"
      }
    },
    {
      "cell_type": "code",
      "source": [],
      "metadata": {
        "id": "5lOiTr73B85O"
      },
      "execution_count": null,
      "outputs": []
    },
    {
      "cell_type": "markdown",
      "source": [
        "### 13. Player with highest winning ratio.\n",
        "Hint: Winning ratio: (Number of rounds won)/(Number of rounds played)\n",
        "\n",
        "Result attributes: player_name\n",
        "\n",
        "Final result will have only one row"
      ],
      "metadata": {
        "id": "kdlqbSImiPjn"
      }
    },
    {
      "cell_type": "code",
      "source": [
        "df_query13_white = spark.sql('select white as player_name from chess_wc_history_game_info')\n",
        "df_query13_black = spark.sql('select black as player_name from chess_wc_history_game_info')"
      ],
      "metadata": {
        "id": "3352uxzRXlLW"
      },
      "execution_count": null,
      "outputs": []
    },
    {
      "cell_type": "code",
      "source": [
        "import pandas as pd\n",
        "df_query13_white_pd = df_query13_white.toPandas()\n",
        "df_query13_black_pd = df_query13_black.toPandas()\n",
        "df_query13_pd = pd.concat([df_query13_white_pd, df_query13_black_pd], axis=0)\n",
        "df_query13_players = spark.createDataFrame(df_query13_pd)\n",
        "df_query13_players.show()"
      ],
      "metadata": {
        "colab": {
          "base_uri": "https://localhost:8080/"
        },
        "id": "-NKLPtVWbTfU",
        "outputId": "fe9a4d08-1cbd-4616-d120-86b45b2792dc"
      },
      "execution_count": null,
      "outputs": [
        {
          "output_type": "stream",
          "name": "stdout",
          "text": [
            "+----------------+\n",
            "|     player_name|\n",
            "+----------------+\n",
            "|Nepomniachtchi,I|\n",
            "|       Carlsen,M|\n",
            "|Nepomniachtchi,I|\n",
            "|       Carlsen,M|\n",
            "|Nepomniachtchi,I|\n",
            "|       Carlsen,M|\n",
            "|Nepomniachtchi,I|\n",
            "|       Carlsen,M|\n",
            "|Nepomniachtchi,I|\n",
            "|       Carlsen,M|\n",
            "|Nepomniachtchi,I|\n",
            "|Caruana, Fabiano|\n",
            "| Carlsen, Magnus|\n",
            "|Caruana, Fabiano|\n",
            "| Carlsen, Magnus|\n",
            "|Caruana, Fabiano|\n",
            "| Carlsen, Magnus|\n",
            "| Carlsen, Magnus|\n",
            "|Caruana, Fabiano|\n",
            "| Carlsen, Magnus|\n",
            "+----------------+\n",
            "only showing top 20 rows\n",
            "\n"
          ]
        }
      ]
    },
    {
      "cell_type": "code",
      "source": [
        "df_query13_players.createOrReplaceTempView('players_played')"
      ],
      "metadata": {
        "id": "MvU3MEDcclCB"
      },
      "execution_count": null,
      "outputs": []
    },
    {
      "cell_type": "code",
      "source": [
        "df_query13_rounds_played = spark.sql(\"select player_name, count(*) as rounds_played \\\n",
        "    from players_played group by player_name\"\n",
        "    )\n",
        "df_query13_rounds_played.show()"
      ],
      "metadata": {
        "colab": {
          "base_uri": "https://localhost:8080/"
        },
        "id": "DuN-luFzcAsi",
        "outputId": "308410f5-e2da-455a-a2d2-c84ecd7d2891"
      },
      "execution_count": null,
      "outputs": [
        {
          "output_type": "stream",
          "name": "stdout",
          "text": [
            "+------------------+-------------+\n",
            "|       player_name|rounds_played|\n",
            "+------------------+-------------+\n",
            "| Hamdouchi, Hichem|            4|\n",
            "|   Fridman, Daniel|            4|\n",
            "|    Svidler, Peter|           14|\n",
            "|   Alterman, Boris|            6|\n",
            "|  Nepomniachtchi,I|           11|\n",
            "|        Ivanchuk,V|           41|\n",
            "|    Andersson, Ulf|           22|\n",
            "|   Jussupow, Artur|            4|\n",
            "|          Piket,Je|            8|\n",
            "|    Van Wely, Loek|           14|\n",
            "|       Onischuk,Al|            6|\n",
            "|      Peng Xiaomin|           16|\n",
            "|      Vladimirov,E|           15|\n",
            "|    Kacheishvili,G|            4|\n",
            "|          Luther,T|            6|\n",
            "| Ivanchuk, Vassily|           10|\n",
            "|Sakaev, Konstantin|            4|\n",
            "| Steinitz, William|          115|\n",
            "|         Carlsen,M|           15|\n",
            "|         Ivanov,AV|            6|\n",
            "+------------------+-------------+\n",
            "only showing top 20 rows\n",
            "\n"
          ]
        }
      ]
    },
    {
      "cell_type": "code",
      "source": [
        "df_query13_rounds_won = spark.sql(\"select winner, count(*) as rounds_won \\\n",
        "    from chess_wc_history_game_info where winner <> 'draw' group by winner\")\n",
        "df_query13_rounds_won.show()"
      ],
      "metadata": {
        "colab": {
          "base_uri": "https://localhost:8080/"
        },
        "id": "JlOOX5TkdKw-",
        "outputId": "a753762e-a9bb-4499-cc86-aff0d0f15c23"
      },
      "execution_count": null,
      "outputs": [
        {
          "output_type": "stream",
          "name": "stdout",
          "text": [
            "+------------------+----------+\n",
            "|            winner|rounds_won|\n",
            "+------------------+----------+\n",
            "|   Fridman, Daniel|         2|\n",
            "|    Svidler, Peter|         4|\n",
            "|   Alterman, Boris|         1|\n",
            "|        Ivanchuk,V|        12|\n",
            "|    Andersson, Ulf|         5|\n",
            "|   Jussupow, Artur|         1|\n",
            "|          Piket,Je|         3|\n",
            "|    Van Wely, Loek|         4|\n",
            "|       Onischuk,Al|         1|\n",
            "|      Peng Xiaomin|         5|\n",
            "|    Kacheishvili,G|         1|\n",
            "|      Vladimirov,E|         4|\n",
            "|          Luther,T|         3|\n",
            "| Ivanchuk, Vassily|         4|\n",
            "| Steinitz, William|        43|\n",
            "|         Carlsen,M|         4|\n",
            "|         Ivanov,AV|         1|\n",
            "|Istratescu, Andrei|         2|\n",
            "|        Tiviakov,S|         5|\n",
            "|   Karpov, Anatoly|        47|\n",
            "+------------------+----------+\n",
            "only showing top 20 rows\n",
            "\n"
          ]
        }
      ]
    },
    {
      "cell_type": "code",
      "source": [
        "df_query13_rounds_played.createOrReplaceTempView('rounds_played')\n",
        "df_query13_rounds_won.createOrReplaceTempView('rounds_won')"
      ],
      "metadata": {
        "id": "81_FBmN3fcpq"
      },
      "execution_count": null,
      "outputs": []
    },
    {
      "cell_type": "code",
      "source": [
        "df_query13_join = spark.sql(\"select A.player_name, B.rounds_won/A.rounds_played as ratio \\\n",
        "    from rounds_played A, rounds_won B where A.player_name == B.winner\"\n",
        "    )\n",
        "df_query13_join.show()"
      ],
      "metadata": {
        "colab": {
          "base_uri": "https://localhost:8080/"
        },
        "id": "O0MjLeN6etC_",
        "outputId": "259f3dd4-0805-4d35-cf00-544c4ef7c5c5"
      },
      "execution_count": null,
      "outputs": [
        {
          "output_type": "stream",
          "name": "stdout",
          "text": [
            "+------------------+-------------------+\n",
            "|       player_name|              ratio|\n",
            "+------------------+-------------------+\n",
            "|   Fridman, Daniel|                0.5|\n",
            "|    Svidler, Peter| 0.2857142857142857|\n",
            "|   Alterman, Boris|0.16666666666666666|\n",
            "|        Ivanchuk,V| 0.2926829268292683|\n",
            "|    Andersson, Ulf|0.22727272727272727|\n",
            "|   Jussupow, Artur|               0.25|\n",
            "|          Piket,Je|              0.375|\n",
            "|    Van Wely, Loek| 0.2857142857142857|\n",
            "|       Onischuk,Al|0.16666666666666666|\n",
            "|      Peng Xiaomin|             0.3125|\n",
            "|      Vladimirov,E|0.26666666666666666|\n",
            "|    Kacheishvili,G|               0.25|\n",
            "|          Luther,T|                0.5|\n",
            "| Ivanchuk, Vassily|                0.4|\n",
            "| Steinitz, William| 0.3739130434782609|\n",
            "|         Carlsen,M|0.26666666666666666|\n",
            "|         Ivanov,AV|0.16666666666666666|\n",
            "|Istratescu, Andrei| 0.2857142857142857|\n",
            "|        Tiviakov,S|0.29411764705882354|\n",
            "|   Karpov, Anatoly| 0.1950207468879668|\n",
            "+------------------+-------------------+\n",
            "only showing top 20 rows\n",
            "\n"
          ]
        }
      ]
    },
    {
      "cell_type": "code",
      "source": [
        "df_query13_join.createOrReplaceTempView('query_13_join')"
      ],
      "metadata": {
        "id": "5tXZKGxTh2GT"
      },
      "execution_count": null,
      "outputs": []
    },
    {
      "cell_type": "code",
      "source": [
        "df_query13 = spark.sql(\"select player_name from query_13_join order by ratio desc limit 1\")\n",
        "df_query13.show()"
      ],
      "metadata": {
        "colab": {
          "base_uri": "https://localhost:8080/"
        },
        "id": "ktwlIB46hpFb",
        "outputId": "9257c126-74a6-4c24-ffb8-598113165089"
      },
      "execution_count": null,
      "outputs": [
        {
          "output_type": "stream",
          "name": "stdout",
          "text": [
            "+-----------+\n",
            "|player_name|\n",
            "+-----------+\n",
            "|   Karlov,A|\n",
            "+-----------+\n",
            "\n"
          ]
        }
      ]
    },
    {
      "cell_type": "code",
      "source": [
        "df_dict['df13.csv'] = df_query13"
      ],
      "metadata": {
        "id": "XzXbs5xfQ48F"
      },
      "execution_count": null,
      "outputs": []
    },
    {
      "cell_type": "markdown",
      "source": [
        "### 14. Player who had given checkmate with Pawn.\n",
        "Note: Consider all events for this query\n",
        "\n",
        "Result attributes: player_name\n",
        "\n",
        "Final result will have only one row"
      ],
      "metadata": {
        "id": "r_t6AcjniZU9"
      }
    },
    {
      "cell_type": "code",
      "source": [
        "df_query14 = spark.sql(\"select player from chess_wc_history_moves \\\n",
        "    where is_check_mate == 1 and piece == 'P'\"\n",
        "    )\n",
        "df_query14.show()"
      ],
      "metadata": {
        "colab": {
          "base_uri": "https://localhost:8080/"
        },
        "id": "8VR1sJ85iguF",
        "outputId": "1ad93dd4-4522-44b1-d1c9-f18d22b40814"
      },
      "execution_count": null,
      "outputs": [
        {
          "output_type": "stream",
          "name": "stdout",
          "text": [
            "+--------------+\n",
            "|        player|\n",
            "+--------------+\n",
            "|Andersson, Ulf|\n",
            "+--------------+\n",
            "\n"
          ]
        }
      ]
    },
    {
      "cell_type": "code",
      "source": [
        "df_dict['df14.csv'] = df_query14"
      ],
      "metadata": {
        "id": "ratDbvDKQ8pD"
      },
      "execution_count": null,
      "outputs": []
    },
    {
      "cell_type": "markdown",
      "source": [
        "### 15. List games where player has won game without queen.\n",
        "\n",
        "Result attributes: game_id, event, player_name"
      ],
      "metadata": {
        "id": "kUX0hbGBihhB"
      }
    },
    {
      "cell_type": "code",
      "source": [
        "df_query15 = spark.sql(\"select M.game_id, H.event, M.player \\\n",
        "    from chess_wc_history_moves M left join chess_wc_history_game_info H \\\n",
        "    where M.is_game_over == 1 and (M.black_queen_count == 0 or M.white_queen_count == 0)\"\n",
        "    )\n",
        "df_query15.show()"
      ],
      "metadata": {
        "colab": {
          "base_uri": "https://localhost:8080/"
        },
        "id": "CAoSb3NshIZE",
        "outputId": "860db93d-903c-4f2c-dce5-7c3110a998d8"
      },
      "execution_count": null,
      "outputs": [
        {
          "output_type": "stream",
          "name": "stdout",
          "text": [
            "+--------------------+--------+---------------+\n",
            "|             game_id|   event|         player|\n",
            "+--------------------+--------+---------------+\n",
            "|12f67983-3075-411...|WCh 2021|Carlsen, Magnus|\n",
            "|12f67983-3075-411...|WCh 2021|Carlsen, Magnus|\n",
            "|12f67983-3075-411...|WCh 2021|Carlsen, Magnus|\n",
            "|12f67983-3075-411...|WCh 2021|Carlsen, Magnus|\n",
            "|12f67983-3075-411...|WCh 2021|Carlsen, Magnus|\n",
            "|12f67983-3075-411...|WCh 2021|Carlsen, Magnus|\n",
            "|12f67983-3075-411...|WCh 2021|Carlsen, Magnus|\n",
            "|12f67983-3075-411...|WCh 2021|Carlsen, Magnus|\n",
            "|12f67983-3075-411...|WCh 2021|Carlsen, Magnus|\n",
            "|12f67983-3075-411...|WCh 2021|Carlsen, Magnus|\n",
            "|12f67983-3075-411...|WCh 2021|Carlsen, Magnus|\n",
            "|12f67983-3075-411...|WCh 2018|Carlsen, Magnus|\n",
            "|12f67983-3075-411...|WCh 2018|Carlsen, Magnus|\n",
            "|12f67983-3075-411...|WCh 2018|Carlsen, Magnus|\n",
            "|12f67983-3075-411...|WCh 2018|Carlsen, Magnus|\n",
            "|12f67983-3075-411...|WCh 2018|Carlsen, Magnus|\n",
            "|12f67983-3075-411...|WCh 2018|Carlsen, Magnus|\n",
            "|12f67983-3075-411...|WCh 2018|Carlsen, Magnus|\n",
            "|12f67983-3075-411...|WCh 2018|Carlsen, Magnus|\n",
            "|12f67983-3075-411...|WCh 2018|Carlsen, Magnus|\n",
            "+--------------------+--------+---------------+\n",
            "only showing top 20 rows\n",
            "\n"
          ]
        }
      ]
    },
    {
      "cell_type": "code",
      "source": [
        "df_dict['df15.csv'] = df_query15"
      ],
      "metadata": {
        "id": "BetSFXuuRBH-"
      },
      "execution_count": null,
      "outputs": []
    },
    {
      "cell_type": "markdown",
      "source": [
        "# Section 3"
      ],
      "metadata": {
        "id": "IT0ECXsgDxPn"
      }
    },
    {
      "cell_type": "code",
      "execution_count": null,
      "metadata": {
        "id": "hk5jFgqAg8Z6",
        "colab": {
          "base_uri": "https://localhost:8080/"
        },
        "outputId": "1c844cfc-aea6-4dac-fd20-b4f8cdbd7eff"
      },
      "outputs": [
        {
          "output_type": "stream",
          "name": "stdout",
          "text": [
            "Mounted at /content/gdrive/\n"
          ]
        }
      ],
      "source": [
        "from google.colab import drive\n",
        "\n",
        "drive.mount('/content/gdrive/', force_remount=True)"
      ]
    },
    {
      "cell_type": "code",
      "source": [
        "import os\n",
        "path = 'gdrive/MyDrive/DE_SOLUTION_Pragnya_Nagure/results/'\n",
        "os.makedirs(path, exist_ok = True)"
      ],
      "metadata": {
        "id": "gLbNjU0QFKB_"
      },
      "execution_count": null,
      "outputs": []
    },
    {
      "cell_type": "code",
      "source": [
        "import pandas as pd\n",
        "def saveDataFrame(df_dict):\n",
        "  for df_key, df_value in df_dict.items():\n",
        "    pd_df = df_value.toPandas()\n",
        "    dir = path + df_key\n",
        "    pd_df.to_csv(dir)"
      ],
      "metadata": {
        "id": "GmvhH8vFD0nJ"
      },
      "execution_count": null,
      "outputs": []
    },
    {
      "cell_type": "code",
      "source": [
        "saveDataFrame(df_dict)"
      ],
      "metadata": {
        "id": "-sgqHlplNCBX"
      },
      "execution_count": null,
      "outputs": []
    }
  ],
  "metadata": {
    "colab": {
      "provenance": [],
      "include_colab_link": true
    },
    "kernelspec": {
      "display_name": "Python 3",
      "name": "python3"
    },
    "language_info": {
      "name": "python"
    }
  },
  "nbformat": 4,
  "nbformat_minor": 0
}